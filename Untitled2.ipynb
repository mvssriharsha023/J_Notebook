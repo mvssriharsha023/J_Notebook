{
 "cells": [
  {
   "cell_type": "markdown",
   "id": "6d146105",
   "metadata": {},
   "source": [
    "Python\n"
   ]
  },
  {
   "cell_type": "markdown",
   "id": "04702dc0",
   "metadata": {},
   "source": [
    "R\n"
   ]
  },
  {
   "cell_type": "markdown",
   "id": "32429cd6",
   "metadata": {},
   "source": [
    "Scala\n"
   ]
  },
  {
   "cell_type": "markdown",
   "id": "dd287bd2",
   "metadata": {},
   "source": [
    "Java\n"
   ]
  },
  {
   "cell_type": "markdown",
   "id": "57273957",
   "metadata": {},
   "source": [
    "C++\n"
   ]
  },
  {
   "cell_type": "markdown",
   "id": "f872c4b9",
   "metadata": {},
   "source": [
    "Julia"
   ]
  },
  {
   "cell_type": "code",
   "execution_count": null,
   "id": "79faff4b",
   "metadata": {},
   "outputs": [],
   "source": []
  }
 ],
 "metadata": {
  "kernelspec": {
   "display_name": "Python 3 (ipykernel)",
   "language": "python",
   "name": "python3"
  },
  "language_info": {
   "codemirror_mode": {
    "name": "ipython",
    "version": 3
   },
   "file_extension": ".py",
   "mimetype": "text/x-python",
   "name": "python",
   "nbconvert_exporter": "python",
   "pygments_lexer": "ipython3",
   "version": "3.9.12"
  }
 },
 "nbformat": 4,
 "nbformat_minor": 5
}
