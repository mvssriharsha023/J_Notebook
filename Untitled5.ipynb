{
 "cells": [
  {
   "cell_type": "markdown",
   "id": "d24a08f8",
   "metadata": {},
   "source": [
    "Examples of arithematic expressions:"
   ]
  },
  {
   "cell_type": "markdown",
   "id": "9d528869",
   "metadata": {},
   "source": [
    "7*(2+5-(8/4))"
   ]
  },
  {
   "cell_type": "markdown",
   "id": "97b70d66",
   "metadata": {},
   "source": [
    "(4-(1*2))+34"
   ]
  },
  {
   "cell_type": "code",
   "execution_count": null,
   "id": "77877d0d",
   "metadata": {},
   "outputs": [],
   "source": []
  }
 ],
 "metadata": {
  "kernelspec": {
   "display_name": "Python 3 (ipykernel)",
   "language": "python",
   "name": "python3"
  },
  "language_info": {
   "codemirror_mode": {
    "name": "ipython",
    "version": 3
   },
   "file_extension": ".py",
   "mimetype": "text/x-python",
   "name": "python",
   "nbconvert_exporter": "python",
   "pygments_lexer": "ipython3",
   "version": "3.9.12"
  }
 },
 "nbformat": 4,
 "nbformat_minor": 5
}
