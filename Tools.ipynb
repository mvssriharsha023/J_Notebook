{
 "cells": [
  {
   "cell_type": "markdown",
   "id": "7f410e3d",
   "metadata": {},
   "source": [
    "## Data Science Tools"
   ]
  },
  {
   "cell_type": "markdown",
   "id": "ce06133e",
   "metadata": {},
   "source": [
    "### 1.Anaconda"
   ]
  },
  {
   "cell_type": "markdown",
   "id": "0347e7a6",
   "metadata": {},
   "source": [
    "### 2.Jupyter Notebook"
   ]
  },
  {
   "cell_type": "markdown",
   "id": "26c03651",
   "metadata": {},
   "source": [
    "### 3.Spdyer\n"
   ]
  },
  {
   "cell_type": "markdown",
   "id": "dfe47f35",
   "metadata": {},
   "source": [
    "### 4.R Studio"
   ]
  },
  {
   "cell_type": "code",
   "execution_count": null,
   "id": "3eb594c5",
   "metadata": {},
   "outputs": [],
   "source": []
  }
 ],
 "metadata": {
  "kernelspec": {
   "display_name": "Python 3 (ipykernel)",
   "language": "python",
   "name": "python3"
  },
  "language_info": {
   "codemirror_mode": {
    "name": "ipython",
    "version": 3
   },
   "file_extension": ".py",
   "mimetype": "text/x-python",
   "name": "python",
   "nbconvert_exporter": "python",
   "pygments_lexer": "ipython3",
   "version": "3.9.12"
  }
 },
 "nbformat": 4,
 "nbformat_minor": 5
}
