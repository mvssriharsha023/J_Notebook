{
 "cells": [
  {
   "cell_type": "markdown",
   "id": "6c119171",
   "metadata": {},
   "source": [
    "OBJECTIVES:"
   ]
  },
  {
   "cell_type": "markdown",
   "id": "3fe249c7",
   "metadata": {},
   "source": [
    "1.Complete the course"
   ]
  },
  {
   "cell_type": "markdown",
   "id": "6223438a",
   "metadata": {},
   "source": [
    "2.Earn an reputed certificate"
   ]
  },
  {
   "cell_type": "markdown",
   "id": "07f42dde",
   "metadata": {},
   "source": [
    "3.Get a good placement"
   ]
  },
  {
   "cell_type": "code",
   "execution_count": null,
   "id": "d10c557a",
   "metadata": {},
   "outputs": [],
   "source": []
  }
 ],
 "metadata": {
  "kernelspec": {
   "display_name": "Python 3 (ipykernel)",
   "language": "python",
   "name": "python3"
  },
  "language_info": {
   "codemirror_mode": {
    "name": "ipython",
    "version": 3
   },
   "file_extension": ".py",
   "mimetype": "text/x-python",
   "name": "python",
   "nbconvert_exporter": "python",
   "pygments_lexer": "ipython3",
   "version": "3.9.12"
  }
 },
 "nbformat": 4,
 "nbformat_minor": 5
}
