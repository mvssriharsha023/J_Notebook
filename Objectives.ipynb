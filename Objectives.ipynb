{
 "cells": [
  {
   "cell_type": "markdown",
   "id": "33fe0442",
   "metadata": {},
   "source": [
    "# Objectives"
   ]
  },
  {
   "cell_type": "markdown",
   "id": "701a2caf",
   "metadata": {},
   "source": [
    "## 1.Add comments to code cells."
   ]
  },
  {
   "cell_type": "markdown",
   "id": "fb60113d",
   "metadata": {},
   "source": [
    "## 2.Format content"
   ]
  },
  {
   "cell_type": "markdown",
   "id": "643917be",
   "metadata": {},
   "source": [
    "## 3.Create markdown cells."
   ]
  },
  {
   "cell_type": "code",
   "execution_count": null,
   "id": "6e282af7",
   "metadata": {},
   "outputs": [],
   "source": []
  }
 ],
 "metadata": {
  "kernelspec": {
   "display_name": "Python 3 (ipykernel)",
   "language": "python",
   "name": "python3"
  },
  "language_info": {
   "codemirror_mode": {
    "name": "ipython",
    "version": 3
   },
   "file_extension": ".py",
   "mimetype": "text/x-python",
   "name": "python",
   "nbconvert_exporter": "python",
   "pygments_lexer": "ipython3",
   "version": "3.9.12"
  }
 },
 "nbformat": 4,
 "nbformat_minor": 5
}
