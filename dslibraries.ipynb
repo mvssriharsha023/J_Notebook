{
 "cells": [
  {
   "cell_type": "markdown",
   "id": "f9033089",
   "metadata": {},
   "source": [
    "Data Science Libraries are:"
   ]
  },
  {
   "cell_type": "markdown",
   "id": "573c3a03",
   "metadata": {},
   "source": [
    "Pandas"
   ]
  },
  {
   "cell_type": "markdown",
   "id": "d2f0e810",
   "metadata": {},
   "source": [
    "Numpy"
   ]
  },
  {
   "cell_type": "markdown",
   "id": "76eddc3a",
   "metadata": {},
   "source": [
    "Scipy"
   ]
  },
  {
   "cell_type": "markdown",
   "id": "6be093a8",
   "metadata": {},
   "source": [
    "Matplotlib"
   ]
  },
  {
   "cell_type": "code",
   "execution_count": null,
   "id": "c304056f",
   "metadata": {},
   "outputs": [],
   "source": []
  }
 ],
 "metadata": {
  "kernelspec": {
   "display_name": "Python 3 (ipykernel)",
   "language": "python",
   "name": "python3"
  },
  "language_info": {
   "codemirror_mode": {
    "name": "ipython",
    "version": 3
   },
   "file_extension": ".py",
   "mimetype": "text/x-python",
   "name": "python",
   "nbconvert_exporter": "python",
   "pygments_lexer": "ipython3",
   "version": "3.9.12"
  }
 },
 "nbformat": 4,
 "nbformat_minor": 5
}
