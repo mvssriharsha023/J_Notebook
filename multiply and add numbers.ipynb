{
 "cells": [
  {
   "cell_type": "markdown",
   "id": "350abba4",
   "metadata": {},
   "source": [
    "Multiply Numbers"
   ]
  },
  {
   "cell_type": "code",
   "execution_count": 1,
   "id": "29c4871e",
   "metadata": {},
   "outputs": [
    {
     "name": "stdout",
     "output_type": "stream",
     "text": [
      "Enter first number: 21\n",
      "Enter second number: 4\n",
      "84\n"
     ]
    }
   ],
   "source": [
    "a=int(input(\"Enter first number: \"))\n",
    "b=int(input(\"Enter second number: \"))\n",
    "print(a*b)"
   ]
  },
  {
   "cell_type": "markdown",
   "id": "a164e660",
   "metadata": {},
   "source": [
    "Adding Numbers"
   ]
  },
  {
   "cell_type": "code",
   "execution_count": 2,
   "id": "3b93f330",
   "metadata": {},
   "outputs": [
    {
     "name": "stdout",
     "output_type": "stream",
     "text": [
      "Enter first number: 21\n",
      "Enter second number: 4\n",
      "25\n"
     ]
    }
   ],
   "source": [
    "a=int(input(\"Enter first number: \"))\n",
    "b=int(input(\"Enter second number: \"))\n",
    "print(a+b)"
   ]
  },
  {
   "cell_type": "code",
   "execution_count": null,
   "id": "24268a3e",
   "metadata": {},
   "outputs": [],
   "source": []
  }
 ],
 "metadata": {
  "kernelspec": {
   "display_name": "Python 3 (ipykernel)",
   "language": "python",
   "name": "python3"
  },
  "language_info": {
   "codemirror_mode": {
    "name": "ipython",
    "version": 3
   },
   "file_extension": ".py",
   "mimetype": "text/x-python",
   "name": "python",
   "nbconvert_exporter": "python",
   "pygments_lexer": "ipython3",
   "version": "3.9.12"
  }
 },
 "nbformat": 4,
 "nbformat_minor": 5
}
