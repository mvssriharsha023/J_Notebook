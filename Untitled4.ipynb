{
 "cells": [
  {
   "cell_type": "markdown",
   "id": "3215b67e",
   "metadata": {},
   "source": [
    "Categories of Data Science tools are:"
   ]
  },
  {
   "cell_type": "markdown",
   "id": "72ad6f13",
   "metadata": {},
   "source": [
    "1.Data Management"
   ]
  },
  {
   "cell_type": "markdown",
   "id": "538f7ffd",
   "metadata": {},
   "source": [
    "2.Data Integration and Transformation"
   ]
  },
  {
   "cell_type": "markdown",
   "id": "d3d8ad3d",
   "metadata": {},
   "source": [
    "3.Data Visualization"
   ]
  },
  {
   "cell_type": "markdown",
   "id": "80dce582",
   "metadata": {},
   "source": [
    "4.Model Building"
   ]
  },
  {
   "cell_type": "markdown",
   "id": "49477d3b",
   "metadata": {},
   "source": [
    "5.Model Deployment"
   ]
  },
  {
   "cell_type": "markdown",
   "id": "82ce708e",
   "metadata": {},
   "source": [
    "6.Model Monitoring and Assessment"
   ]
  },
  {
   "cell_type": "code",
   "execution_count": null,
   "id": "36a656cb",
   "metadata": {},
   "outputs": [],
   "source": []
  }
 ],
 "metadata": {
  "kernelspec": {
   "display_name": "Python 3 (ipykernel)",
   "language": "python",
   "name": "python3"
  },
  "language_info": {
   "codemirror_mode": {
    "name": "ipython",
    "version": 3
   },
   "file_extension": ".py",
   "mimetype": "text/x-python",
   "name": "python",
   "nbconvert_exporter": "python",
   "pygments_lexer": "ipython3",
   "version": "3.9.12"
  }
 },
 "nbformat": 4,
 "nbformat_minor": 5
}
