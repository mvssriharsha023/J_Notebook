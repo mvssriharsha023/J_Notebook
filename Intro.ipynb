{
 "cells": [
  {
   "cell_type": "markdown",
   "id": "e6988731",
   "metadata": {},
   "source": [
    "# Hi, I'm Sriharsha"
   ]
  },
  {
   "cell_type": "markdown",
   "id": "4431a0b9",
   "metadata": {},
   "source": [
    "## Welcome to the course of \"Tools for Data Science\""
   ]
  },
  {
   "cell_type": "code",
   "execution_count": null,
   "id": "320538c7",
   "metadata": {},
   "outputs": [],
   "source": []
  }
 ],
 "metadata": {
  "kernelspec": {
   "display_name": "Python 3 (ipykernel)",
   "language": "python",
   "name": "python3"
  },
  "language_info": {
   "codemirror_mode": {
    "name": "ipython",
    "version": 3
   },
   "file_extension": ".py",
   "mimetype": "text/x-python",
   "name": "python",
   "nbconvert_exporter": "python",
   "pygments_lexer": "ipython3",
   "version": "3.9.12"
  }
 },
 "nbformat": 4,
 "nbformat_minor": 5
}
