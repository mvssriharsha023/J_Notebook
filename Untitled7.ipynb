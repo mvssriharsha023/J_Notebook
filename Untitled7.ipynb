{
 "cells": [
  {
   "cell_type": "markdown",
   "id": "d674a55f",
   "metadata": {},
   "source": [
    "Conversion of minutes to hours"
   ]
  },
  {
   "cell_type": "code",
   "execution_count": 1,
   "id": "0d92aeca",
   "metadata": {},
   "outputs": [
    {
     "name": "stdout",
     "output_type": "stream",
     "text": [
      "Enter number of minutes: 60\n",
      "1.0\n"
     ]
    }
   ],
   "source": [
    "mins = int(input(\"Enter number of minutes: \"))\n",
    "hours = mins/60\n",
    "print(hours)"
   ]
  },
  {
   "cell_type": "code",
   "execution_count": null,
   "id": "b855177e",
   "metadata": {},
   "outputs": [],
   "source": []
  }
 ],
 "metadata": {
  "kernelspec": {
   "display_name": "Python 3 (ipykernel)",
   "language": "python",
   "name": "python3"
  },
  "language_info": {
   "codemirror_mode": {
    "name": "ipython",
    "version": 3
   },
   "file_extension": ".py",
   "mimetype": "text/x-python",
   "name": "python",
   "nbconvert_exporter": "python",
   "pygments_lexer": "ipython3",
   "version": "3.9.12"
  }
 },
 "nbformat": 4,
 "nbformat_minor": 5
}
